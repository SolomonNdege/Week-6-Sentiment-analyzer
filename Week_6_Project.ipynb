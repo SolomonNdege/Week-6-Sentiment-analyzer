{
  "cells": [
    {
      "cell_type": "code",
      "execution_count": null,
      "metadata": {
        "id": "eizcZlh3F8lK"
      },
      "outputs": [],
      "source": [
        "#Description of the program: This is a sentiment analysis program that passes the tweets fetched from twitter using python."
      ]
    },
    {
      "cell_type": "code",
      "execution_count": null,
      "metadata": {
        "id": "wvklOdSwGYsW"
      },
      "outputs": [],
      "source": [
        "#Import libraries\n",
        "import tweepy\n",
        "from textblob import TextBlob\n",
        "from wordcloud import WordCloud\n",
        "import pandas as pd\n",
        "import numpy as np\n",
        "import re\n",
        "import matplotlib.pyplot as plt\n",
        "plt.style.use('fivethirtyeight')"
      ]
    },
    {
      "cell_type": "code",
      "execution_count": null,
      "metadata": {
        "id": "Zi6b81R5IBnm"
      },
      "outputs": [],
      "source": [
        "#Load the data\n",
        "from google.colab import files\n",
        "uploaded = files.upload()"
      ]
    },
    {
      "cell_type": "code",
      "execution_count": null,
      "metadata": {
        "id": "3Rhl1ZB7LA9Y"
      },
      "outputs": [],
      "source": [
        "#Get the data\n",
        "log = pd.read_csv('Login.csv')"
      ]
    },
    {
      "cell_type": "code",
      "execution_count": null,
      "metadata": {
        "id": "fIDeGwxXLVDl"
      },
      "outputs": [],
      "source": [
        "#Twitter API credentials\n",
        "consumerKey = log['key'][0]\n",
        "consumerSecret = log['key'][1]\n",
        "accessToken = log ['key'][2]\n",
        "accessTokenSecret = log['key'][3]"
      ]
    },
    {
      "cell_type": "code",
      "execution_count": null,
      "metadata": {
        "id": "bePGytsvO87g"
      },
      "outputs": [],
      "source": [
        "#Create the authentication object\n",
        "authenticate = tweepy.OAuthHandler(consumerKey, consumerSecret)\n",
        "\n",
        "#Set the access token and access token secret\n",
        "authenticate.set_access_token(accessToken, accessTokenSecret)\n",
        "\n",
        "#Create the API object while passing in the auth information\n",
        "api = tweepy.API(authenticate, wait_on_rate_limit = True)"
      ]
    },
    {
      "cell_type": "code",
      "execution_count": null,
      "metadata": {
        "id": "eTNvaVrBQVtb"
      },
      "outputs": [],
      "source": [
        "#Extract 100 tweets from the twitter user\n",
        "posts = api.user_timeline(screen_name = \"Bill Gates\", count= 100,lang= \"en\", tweet_mode=\"extended\")\n",
        "\n",
        "#Print the last 5 tweets from the account\n",
        "print(\"Show the 5 recent tweets: \\n\")\n",
        "i=1\n",
        "for tweet in posts[0:5]:\n",
        "  print(str(i) + ') '+ tweet.full_text+ '\\n')\n",
        "  i = i + 1"
      ]
    },
    {
      "cell_type": "code",
      "execution_count": null,
      "metadata": {
        "id": "hpkCZ4c6Shq9"
      },
      "outputs": [],
      "source": [
        "#Create a dataframe witha column called Tweets\n",
        "df = pd.DataFrame( [tweet.full_text for tweet in posts] , columns =['Tweets'])\n",
        "\n",
        "#Show the first 5 rows of data\n",
        "df.head()"
      ]
    },
    {
      "cell_type": "code",
      "execution_count": null,
      "metadata": {
        "id": "bYK4H050TIAZ"
      },
      "outputs": [],
      "source": [
        "#Clean the text\n",
        "\n",
        "#Create a function to clean the tweets\n",
        "def cleanTxt(text):\n",
        "  text = re.sub(r'@[A-Z a-z0-9]+', '', text) #Remove @mentions\n",
        "  text = re.sub(r'#','', text) #Removing the # symbol\n",
        "  text = re.sub(r'RT[\\s]+','', text) # Removing RT\n",
        "  text = re.sub(r'https?:\\/\\/\\S+','', text) #Remove the hyper link\n",
        "\n",
        "  return text\n",
        "\n",
        "df['Tweets'] = df ['Tweets'].apply(cleanTxt)\n",
        "\n",
        "#Show the cleaned text\n",
        "df "
      ]
    },
    {
      "cell_type": "code",
      "execution_count": null,
      "metadata": {
        "id": "-3QWw057VezI"
      },
      "outputs": [],
      "source": [
        "#Create a function to get the subjectivity\n",
        "def getSubjectivity(text):\n",
        "  return TextBlob(text).sentiment.subjectivity\n",
        "\n",
        "#Create a function to get the polarity\n",
        "def getPolarity(text):\n",
        "  return TextBlob(text).sentiment.polarity\n",
        "\n",
        "#Create two new columns\n",
        "df['Subjectivity'] = df['Tweets'].apply(getSubjectivity)\n",
        "df['Polarity'] = df['Tweets'].apply(getPolarity)\n",
        "\n",
        "#Show the new dataframe with the new columns\n",
        "df\n",
        "\n"
      ]
    },
    {
      "cell_type": "code",
      "execution_count": null,
      "metadata": {
        "id": "8ZtW0xjKXPwj"
      },
      "outputs": [],
      "source": [
        "#Plot the word cloud\n",
        "allWords = ' '.join([twts for twts in df['Tweets']])\n",
        "wordCloud = WordCloud(width = 500, height=300, random_state=21, max_font_size=119).generate(allWords)\n",
        "\n",
        "plt.imshow(wordCloud, interpolation = \"bilinear\")\n",
        "plt.axis('off')\n",
        "plt.show()"
      ]
    },
    {
      "cell_type": "code",
      "execution_count": null,
      "metadata": {
        "id": "NzaWJuQmZHeE"
      },
      "outputs": [],
      "source": [
        "#Create a fucntion to compute the negative, neutral and positive analysis\n",
        "def getAnalysis(score):\n",
        "  if score < 0:\n",
        "    return 'Negative'\n",
        "  elif score==0:\n",
        "    return 'Neutral'\n",
        "  else:\n",
        "    return 'Positive'\n",
        "\n",
        "df['Analysis'] = df['Polarity'].apply(getAnalysis)\n",
        "\n",
        "#Show the dataframe\n",
        "df "
      ]
    },
    {
      "cell_type": "code",
      "execution_count": null,
      "metadata": {
        "id": "Op9uroE9aLUB"
      },
      "outputs": [],
      "source": [
        "#Print all of the positive tweets\n",
        "j=1\n",
        "sortedDF= df.sort_values(by=['Polarity'])\n",
        "for i in range(0, sortedDF.shape[0]):\n",
        "  if (sortedDF['Analysis'][i]== 'Positive'):\n",
        "     print(str(j) +')' +sortedDF['Tweets'][i])\n",
        "     print()\n",
        "  j = j+1\n"
      ]
    },
    {
      "cell_type": "code",
      "execution_count": null,
      "metadata": {
        "id": "h7LMi5YJcSTr"
      },
      "outputs": [],
      "source": [
        "#print the negative tweets\n",
        "j=1\n",
        "sortedDF = df.sort_values(by=['Polarity'], ascending='False')\n",
        "for i in range (0, sortedDF.shape[0]):\n",
        "  if( sortedDF['Analysis'][i]== 'Negative'):\n",
        "    print(str(j) + ')'+ sortedDF['Tweets'][i])\n",
        "    print()\n",
        "    j=j+1"
      ]
    },
    {
      "cell_type": "code",
      "execution_count": null,
      "metadata": {
        "id": "HMiHurB2d5UG"
      },
      "outputs": [],
      "source": [
        "#Plot the polarity and subjectivity\n",
        "plt.figure(figsize=(8,6))\n",
        "for i in range(0,df.shape[0]):\n",
        "  plt.scatter(df['Polarity'][i], df['Subjectivity'][i], color='Blue')\n",
        "\n",
        "plt.title('Sentiment Analysis')\n",
        "plt.xlabel('Polarity')\n",
        "plt.ylabel('Subjectivity')\n",
        "plt.show()\n"
      ]
    },
    {
      "cell_type": "code",
      "execution_count": null,
      "metadata": {
        "id": "lJbpmThRfcHL"
      },
      "outputs": [],
      "source": [
        "#Get the percentage of positive tweets\n",
        "ptweets = df[df.Analysis == 'Positive']\n",
        "ptweets = ptweets['Tweets']\n",
        "\n",
        "round( (ptweets.shape[0]/df.shape[0])*100,1)"
      ]
    },
    {
      "cell_type": "code",
      "execution_count": null,
      "metadata": {
        "id": "C6yqCFI_gjVB"
      },
      "outputs": [],
      "source": [
        "#Get the percentage of negative tweets\n",
        "ntweets = df[df.Analysis == 'Negative']\n",
        "ntweets = ntweets ['Tweets']\n",
        "\n",
        "round( (ntweets.shape[0]/ df.shape[0]*100),1)"
      ]
    },
    {
      "cell_type": "code",
      "source": [
        "#Show the value counts\n",
        "df['Analysis'].value_conuts()\n",
        "\n",
        "#plot and visualizer counts\n",
        "plt.title('Sentiment Analysis')\n",
        "plt.xlabel('Sentiment')\n",
        "plt.ylabel('Counts')\n",
        "df['Analysis'].value_counts().plot(kind='bar')\n",
        "plt.show()"
      ],
      "metadata": {
        "id": "kkYbF5QNKxbW"
      },
      "execution_count": null,
      "outputs": []
    }
  ],
  "metadata": {
    "colab": {
      "name": "Week 6 Project.ipynb",
      "provenance": []
    },
    "kernelspec": {
      "display_name": "Python 3",
      "name": "python3"
    },
    "language_info": {
      "name": "python"
    }
  },
  "nbformat": 4,
  "nbformat_minor": 0
}